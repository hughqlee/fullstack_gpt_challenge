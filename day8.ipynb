{
 "cells": [
  {
   "cell_type": "code",
   "execution_count": 1,
   "id": "c636ab01",
   "metadata": {},
   "outputs": [],
   "source": [
    "from typing import Any, Type\n",
    "from langchain.chat_models import ChatOpenAI\n",
    "from langchain.tools import BaseTool\n",
    "from pydantic import BaseModel, Field\n",
    "from langchain.agents import initialize_agent, AgentType\n",
    "from langchain.utilities import DuckDuckGoSearchAPIWrapper, WikipediaAPIWrapper\n"
   ]
  },
  {
   "cell_type": "code",
   "execution_count": 6,
   "id": "40d4cb6a",
   "metadata": {},
   "outputs": [
    {
     "name": "stdout",
     "output_type": "stream",
     "text": [
      "\n",
      "\n",
      "\u001b[1m> Entering new AgentExecutor chain...\u001b[0m\n",
      "\u001b[32;1m\u001b[1;3m\n",
      "Invoking: `duckduckgo` with `{'query': 'XZ backdoor'}`\n",
      "\n",
      "\n",
      "\u001b[0m\u001b[36;1m\u001b[1;3mDDG Error: \u001b[0m\u001b[32;1m\u001b[1;3m\n",
      "Invoking: `wikipedia` with `{'query': 'XZ backdoor'}`\n",
      "\n",
      "\n",
      "\u001b[0m\u001b[33;1m\u001b[1;3mPage: XZ Utils backdoor\n",
      "Summary: In February 2024, a malicious backdoor was introduced to the Linux build of the xz utility within the liblzma library in versions 5.6.0 and 5.6.1 by an account using the name \"Jia Tan\". The backdoor gives an attacker who possesses a specific Ed448 private key remote code execution through OpenSSH on the affected Linux system. The issue has been given the Common Vulnerabilities and Exposures number CVE-2024-3094 and has been assigned a CVSS score of 10.0, the highest possible score.\n",
      "While xz is commonly present in most Linux distributions, at the time of discovery the backdoored version had not yet been widely deployed to production systems, but was present in development versions of major distributions. The backdoor was discovered by the software developer Andres Freund, who announced his findings on 29 March 2024.\n",
      "\n",
      "Page: XZ Utils\n",
      "Summary: XZ Utils (previously LZMA Utils) is a set of free software command-line lossless data compressors, including the programs lzma and xz, for Unix-like operating systems and, from version 5.0 onwards, Microsoft Windows. For compression/decompression the Lempel–Ziv–Markov chain algorithm (LZMA) is used. XZ Utils started as a Unix port of Igor Pavlov's LZMA-SDK that has been adapted to fit seamlessly into Unix environments and their usual structure and behavior.\n",
      "\n",
      "Page: Backdoor (computing)\n",
      "Summary: A backdoor is a typically covert method of bypassing normal authentication or encryption in a computer, product, embedded device (e.g. a home router), or its embodiment (e.g. part of a cryptosystem, algorithm, chipset, or even a \"homunculus computer\"—a tiny computer-within-a-computer such as that found in Intel's AMT technology). Backdoors are most often used for securing remote access to a computer, or obtaining access to plaintext in cryptosystems. From there it may be used to gain access to privileged information like passwords, corrupt or delete data on hard drives, or transfer information within autoschediastic networks.\n",
      "In the United States, the 1994 Communications Assistance for Law Enforcement Act forces internet providers to provide backdoors for government authorities.  In 2024, the U.S. government realized that China had been tapping communications in the U.S. using that infrastructure for months, or perhaps longer; China recorded presidential candidate campaign office phone calls —including employees of the then-vice president of the nation– and of the candidates themselves.\n",
      "A backdoor may take the form of a hidden part of a program, a separate program (e.g. Back Orifice may subvert the system through a rootkit), code in the firmware of the hardware, or parts of an operating system such as Windows. Trojan horses can be used to create vulnerabilities in a device. A Trojan horse may appear to be an entirely legitimate program, but when executed, it triggers an activity that may install a backdoor. Although some are secretly installed, other backdoors are deliberate and widely known. These kinds of backdoors have \"legitimate\" uses such as providing the manufacturer with a way to restore user passwords.\n",
      "Many systems that store information within the cloud fail to create accurate security measures. If many systems are connected within the cloud, hackers can gain access to all other platforms through the most vulnerable system. Default passwords (or other default credentials) can function as backdoors if they are not changed by the user. Some debugging features can also act as backdoors if they are not removed in the release version. In 1993, the United States government attempted to deploy an encryption system, the Clipper chip, with an explicit backdoor for law enforcement and national security access. The chip was unsuccessful.\n",
      "Recent proposals to counter backdoors include creating a database of backdoors' triggers and then using neural networks to detect them.\u001b[0m\u001b[32;1m\u001b[1;3mThe XZ backdoor refers to a malicious backdoor that was introduced to the Linux build of the xz utility within the liblzma library in versions 5.6.0 and 5.6.1. The backdoor was added by an account using the name \"Jia Tan\" and allows an attacker with a specific Ed448 private key to execute remote code through OpenSSH on the affected Linux system. This issue has been assigned the Common Vulnerabilities and Exposures number CVE-2024-3094 and has a CVSS score of 10.0, the highest possible score.\n",
      "\n",
      "The backdoor was discovered by software developer Andres Freund in March 2024. While the backdoored version had not been widely deployed to production systems at the time of discovery, it was present in development versions of major distributions. XZ Utils is a set of free software command-line lossless data compressors that includes programs like lzma and xz for Unix-like operating systems.\n",
      "\n",
      "A backdoor is a covert method of bypassing normal authentication or encryption in a computer system, product, or device. It is often used for securing remote access to a computer or obtaining access to plaintext in cryptosystems. Backdoors can be hidden parts of a program, separate programs, code in firmware, or parts of an operating system. They can be used for legitimate purposes like providing a way to restore user passwords or for malicious activities like gaining unauthorized access to systems.\n",
      "\n",
      "If you need more information or details, feel free to ask!\u001b[0m\n",
      "\n",
      "\u001b[1m> Finished chain.\u001b[0m\n"
     ]
    }
   ],
   "source": [
    "class ResearchToolArgsSchema(BaseModel):\n",
    "    query: str = Field(description=\"The query to search the web or wikipedia for information\")\n",
    "\n",
    "\n",
    "\n",
    "class DdgResearchTool(BaseTool):\n",
    "    name: str = \"duckduckgo\"\n",
    "    description: str = \"Search the web for information\"\n",
    "    args_schema: Type[BaseModel] = ResearchToolArgsSchema\n",
    "    def _run(self, query: str) -> str:\n",
    "        try:\n",
    "            return DuckDuckGoSearchAPIWrapper().run(query)\n",
    "        except Exception as e:\n",
    "            return f\"DDG Error: {e}\"\n",
    "\n",
    "\n",
    "class WikipediaResearchTool(BaseTool):\n",
    "    name: str = \"wikipedia\"\n",
    "    description: str = \"Search the wikipedia for information\"\n",
    "    args_schema: Type[BaseModel] = ResearchToolArgsSchema\n",
    "    def _run(self, query: str) -> str:\n",
    "        try:\n",
    "            return WikipediaAPIWrapper().run(query)\n",
    "        except Exception as e:\n",
    "            return f\"Wikipedia Error: {e}\"\n",
    "\n",
    "llm = ChatOpenAI(temperature=0.1)\n",
    "\n",
    "agent = initialize_agent(\n",
    "    llm = llm,\n",
    "    verbose = True,\n",
    "    agent = AgentType.OPENAI_FUNCTIONS,\n",
    "    handle_parsing_errors = True,\n",
    "    tools = [DdgResearchTool(), WikipediaResearchTool()],\n",
    ")\n",
    "\n",
    "prompt = \"Research about the XZ backdoor\"\n",
    "\n",
    "result = agent.invoke(prompt)\n",
    "\n",
    "with open(\"research_result.txt\", \"w\", encoding=\"utf-8\") as f:\n",
    "    f.write(result[\"output\"])"
   ]
  },
  {
   "cell_type": "code",
   "execution_count": null,
   "id": "bd30004a",
   "metadata": {},
   "outputs": [],
   "source": []
  }
 ],
 "metadata": {
  "kernelspec": {
   "display_name": "venv",
   "language": "python",
   "name": "python3"
  },
  "language_info": {
   "codemirror_mode": {
    "name": "ipython",
    "version": 3
   },
   "file_extension": ".py",
   "mimetype": "text/x-python",
   "name": "python",
   "nbconvert_exporter": "python",
   "pygments_lexer": "ipython3",
   "version": "3.11.4"
  }
 },
 "nbformat": 4,
 "nbformat_minor": 5
}
