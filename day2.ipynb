{
 "cells": [
  {
   "cell_type": "code",
   "execution_count": 1,
   "metadata": {},
   "outputs": [],
   "source": [
    "from langchain.chat_models import ChatOpenAI\n",
    "from langchain.prompts import PromptTemplate\n",
    "from langchain.prompts import ChatPromptTemplate\n",
    "from langchain.prompts.few_shot import FewShotPromptTemplate\n",
    "from langchain.prompts.few_shot import FewShotChatMessagePromptTemplate\n",
    "from langchain.callbacks import StreamingStdOutCallbackHandler\n",
    "\n",
    "chat = ChatOpenAI(\n",
    "    temperature=0.1,\n",
    "    streaming=True,\n",
    "    callbacks=[\n",
    "        StreamingStdOutCallbackHandler(),\n",
    "    ],\n",
    ")"
   ]
  },
  {
   "cell_type": "code",
   "execution_count": 2,
   "metadata": {},
   "outputs": [],
   "source": [
    "examples = [\n",
    "    {\n",
    "        \"movie\": \"Iron Man\",\n",
    "        \"answer\": \"\"\"\n",
    "        Information of Iron Man\n",
    "        Director: Jon Favreau\n",
    "        Main Cast: Robert Downey Jr., Gwyneth Paltrow, Jeff Bridges, Terrence Howard\n",
    "        Budget: $140 million\n",
    "        Box Office Revenue: $585.8 million\n",
    "        Genre: Action, Science Fiction, Superhero\n",
    "        Synopsis: After being held captive in an Afghan cave, billionaire engineer Tony Stark creates a unique weaponized suit of armor to fight evil.\n",
    "        \"\"\",\n",
    "    },\n",
    "    {\n",
    "        \"movie\": \"Thor\",\n",
    "        \"answer\": \"\"\"\n",
    "        Information of Thor\n",
    "        Director: Kenneth Branagh\n",
    "        Main Cast: Chris Hemsworth, Natalie Portman, Tom Hiddleston, Anthony Hopkins\n",
    "        Budget: $150 million\n",
    "        Box Office Revenue: $449.3 million\n",
    "        Genre: Action, Fantasy, Superhero\n",
    "        Synopsis: The powerful but arrogant god Thor is cast out of Asgard to live amongst humans in Midgard (Earth), where he soon becomes one of their finest defenders.\n",
    "        \"\"\",\n",
    "    },\n",
    "    {\n",
    "        \"movie\": \"Spider-Man\",\n",
    "        \"answer\": \"\"\"\n",
    "        Information of Spider-Man\n",
    "        Director: Sam Raimi\n",
    "        Main Cast: Tobey Maguire, Kirsten Dunst, Willem Dafoe, James Franco\n",
    "        Budget: $139 million\n",
    "        Box Office Revenue: $825 million\n",
    "        Genre: Action, Adventure, Superhero\n",
    "        Synopsis: When bitten by a genetically modified spider, a nerdy high school student gains spider-like abilities that he must use to fight evil as a superhero after tragedy befalls his family.\n",
    "        \"\"\",\n",
    "    },\n",
    "]"
   ]
  },
  {
   "cell_type": "code",
   "execution_count": 3,
   "metadata": {},
   "outputs": [
    {
     "name": "stdout",
     "output_type": "stream",
     "text": [
      "AI: \n",
      "        Information of The Avengers\n",
      "        Director: Joss Whedon\n",
      "        Main Cast: Robert Downey Jr., Chris Evans, Mark Ruffalo, Scarlett Johansson, Chris Hemsworth, Jeremy Renner, Tom Hiddleston, Samuel L. Jackson\n",
      "        Budget: $220 million\n",
      "        Box Office Revenue: $1.519 billion\n",
      "        Genre: Action, Adventure, Superhero\n",
      "        Synopsis: Earth's mightiest heroes, including Iron Man, Captain America, Thor, and the Hulk, must come together to stop the villainous Loki and his alien army from conquering Earth."
     ]
    },
    {
     "data": {
      "text/plain": [
       "AIMessageChunk(content=\"AI: \\n        Information of The Avengers\\n        Director: Joss Whedon\\n        Main Cast: Robert Downey Jr., Chris Evans, Mark Ruffalo, Scarlett Johansson, Chris Hemsworth, Jeremy Renner, Tom Hiddleston, Samuel L. Jackson\\n        Budget: $220 million\\n        Box Office Revenue: $1.519 billion\\n        Genre: Action, Adventure, Superhero\\n        Synopsis: Earth's mightiest heroes, including Iron Man, Captain America, Thor, and the Hulk, must come together to stop the villainous Loki and his alien army from conquering Earth.\")"
      ]
     },
     "execution_count": 3,
     "metadata": {},
     "output_type": "execute_result"
    }
   ],
   "source": [
    "# FewShotPromptTemplate를 활용\n",
    "\n",
    "example_prompt = PromptTemplate.from_template(\n",
    "    \"Human: Tell me about {movie} movie.\\nAI: {answer}\"\n",
    ")\n",
    "\n",
    "prompt = FewShotPromptTemplate(\n",
    "    example_prompt=example_prompt,\n",
    "    examples=examples,\n",
    "    suffix=\"Human: Tell me about {movie} movie\",\n",
    "    input_variables=[\"movie\"],\n",
    ")\n",
    "\n",
    "chain = prompt | chat\n",
    "\n",
    "chain.invoke({\"movie\": \"The Avengers\"})"
   ]
  },
  {
   "cell_type": "code",
   "execution_count": 4,
   "metadata": {},
   "outputs": [
    {
     "name": "stdout",
     "output_type": "stream",
     "text": [
      "\n",
      "        Information of The Avengers\n",
      "        Director: Joss Whedon\n",
      "        Main Cast: Robert Downey Jr., Chris Evans, Scarlett Johansson, Mark Ruffalo, Chris Hemsworth, Jeremy Renner, Tom Hiddleston, Samuel L. Jackson\n",
      "        Budget: $220 million\n",
      "        Box Office Revenue: $1.519 billion\n",
      "        Genre: Action, Adventure, Superhero\n",
      "        Synopsis: Earth's mightiest heroes, including Iron Man, Captain America, Thor, and the Hulk, must come together to stop the villainous Loki and his alien army from conquering Earth.\n",
      "        "
     ]
    },
    {
     "data": {
      "text/plain": [
       "AIMessageChunk(content=\"\\n        Information of The Avengers\\n        Director: Joss Whedon\\n        Main Cast: Robert Downey Jr., Chris Evans, Scarlett Johansson, Mark Ruffalo, Chris Hemsworth, Jeremy Renner, Tom Hiddleston, Samuel L. Jackson\\n        Budget: $220 million\\n        Box Office Revenue: $1.519 billion\\n        Genre: Action, Adventure, Superhero\\n        Synopsis: Earth's mightiest heroes, including Iron Man, Captain America, Thor, and the Hulk, must come together to stop the villainous Loki and his alien army from conquering Earth.\\n        \")"
      ]
     },
     "execution_count": 4,
     "metadata": {},
     "output_type": "execute_result"
    }
   ],
   "source": [
    "# FewShotChatMessagePromptTemplate를 활용\n",
    "\n",
    "example_prompt = ChatPromptTemplate.from_messages(\n",
    "    [(\"human\", \"Tell me about {movie} movie.\"), (\"ai\", \"{answer}\")]\n",
    ")\n",
    "\n",
    "fewshot_chat_prompt = FewShotChatMessagePromptTemplate(\n",
    "    example_prompt=example_prompt,\n",
    "    examples=examples,\n",
    ")\n",
    "\n",
    "final_prompt = ChatPromptTemplate.from_messages(\n",
    "    [\n",
    "        (\n",
    "            \"system\",\n",
    "            \"You are a movie expert. Provide detailed and accurate information about movies when asked.\",\n",
    "        ),\n",
    "        fewshot_chat_prompt,\n",
    "        (\"human\", \"tell me about {movie} movie.\"),\n",
    "    ]\n",
    ")\n",
    "\n",
    "chain = final_prompt | chat\n",
    "\n",
    "chain.invoke({\"movie\": \"The Avengers\"})"
   ]
  },
  {
   "cell_type": "code",
   "execution_count": null,
   "metadata": {},
   "outputs": [],
   "source": []
  }
 ],
 "metadata": {
  "kernelspec": {
   "display_name": "venv",
   "language": "python",
   "name": "python3"
  },
  "language_info": {
   "codemirror_mode": {
    "name": "ipython",
    "version": 3
   },
   "file_extension": ".py",
   "mimetype": "text/x-python",
   "name": "python",
   "nbconvert_exporter": "python",
   "pygments_lexer": "ipython3",
   "version": "3.11.4"
  }
 },
 "nbformat": 4,
 "nbformat_minor": 2
}
